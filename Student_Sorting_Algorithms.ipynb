{
 "cells": [
  {
   "cell_type": "markdown",
   "metadata": {},
   "source": [
    "# ..............DEBRE-BERHAN UNIVERSITY.............\n",
    "# Department: Data Science (DS)\n",
    "# Student Name: [Addisu Mekonen]\n",
    "# ID: [DBU1601497]\n",
    "# GitHub: [github.com Addisu-Mekonen]\n",
    "# Course: Data Structure and Algorithms"
   ]
  },
  {
   "cell_type": "code",
   "execution_count": 5,
   "metadata": {},
   "outputs": [],
   "source": [
    "Students = [\n",
    "    {'id': 'DBU1601442', 'name': 'Bereket', 'dept': 'DS', 'cgpa': 3.29},\n",
    "    {'id': 'DBU1601465', 'name': 'Abebech', 'dept': 'DS', 'cgpa': 3.42},\n",
    "    {'id': 'DBU1601505', 'name': 'Afomia', 'dept': 'DS', 'cgpa': 3.36},\n",
    "    {'id': 'DBU1601391', 'name': 'Andarge', 'dept': 'DS', 'cgpa': 3.62},\n",
    "    {'id': 'DBU1601406', 'name': 'Ayele', 'dept': 'DS', 'cgpa': 3.32},\n",
    "    {'id': 'DBU1601497', 'name': 'Addisu', 'dept': 'DS', 'cgpa': 3.37},\n",
    "    {'id': 'DBU1601458', 'name': 'Abat', 'dept': 'DS', 'cgpa': 3.12},\n",
    "    {'id': 'DBU1601519', 'name': 'Alemtsehay', 'dept': 'DS', 'cgpa': 3.52},\n",
    "    {'id': 'DBU1601463', 'name': 'Abebaw', 'dept': 'DS', 'cgpa': 3.41}\n",
    "]"
   ]
  },
  {
   "cell_type": "code",
   "execution_count": 6,
   "metadata": {},
   "outputs": [],
   "source": [
    "def bubble_sort_by_id(data):\n",
    "    n = len(data)\n",
    "    for i in range(n):\n",
    "        for j in range(0, n - i - 1):\n",
    "            if data[j]['id'] > data[j + 1]['id']:\n",
    "                data[j], data[j + 1] = data[j + 1], data[j]\n",
    "    return data"
   ]
  },
  {
   "cell_type": "code",
   "execution_count": 7,
   "metadata": {},
   "outputs": [],
   "source": [
    "def insertion_sort_by_name(data):\n",
    "    for i in range(1, len(data)):\n",
    "        key = data[i]\n",
    "        j = i - 1\n",
    "        while j >= 0 and key['name'].lower() < data[j]['name'].lower():\n",
    "            data[j + 1] = data[j]\n",
    "            j -= 1\n",
    "        data[j + 1] = key\n",
    "    return data"
   ]
  },
  {
   "cell_type": "code",
   "execution_count": 8,
   "metadata": {},
   "outputs": [],
   "source": [
    "def selection_sort_by_cgpa_desc(data):\n",
    "    n = len(data)\n",
    "    for i in range(n):\n",
    "        max_idx = i\n",
    "        for j in range(i + 1, n):\n",
    "            if data[j]['cgpa'] > data[max_idx]['cgpa']:\n",
    "                max_idx = j\n",
    "        data[i], data[max_idx] = data[max_idx], data[i]\n",
    "    return data"
   ]
  },
  {
   "cell_type": "code",
   "execution_count": 9,
   "metadata": {},
   "outputs": [
    {
     "name": "stdout",
     "output_type": "stream",
     "text": [
      "Original List:\n",
      " [{'id': 'DBU1601442', 'name': 'Bereket', 'dept': 'DS', 'cgpa': 3.29}, {'id': 'DBU1601465', 'name': 'Abebech', 'dept': 'DS', 'cgpa': 3.42}, {'id': 'DBU1601505', 'name': 'Afomia', 'dept': 'DS', 'cgpa': 3.36}, {'id': 'DBU1601391', 'name': 'Andarge', 'dept': 'DS', 'cgpa': 3.62}, {'id': 'DBU1601406', 'name': 'Ayele', 'dept': 'DS', 'cgpa': 3.32}, {'id': 'DBU1601497', 'name': 'Addisu', 'dept': 'DS', 'cgpa': 3.37}, {'id': 'DBU1601458', 'name': 'Abat', 'dept': 'DS', 'cgpa': 3.12}, {'id': 'DBU1601519', 'name': 'Alemtsehay', 'dept': 'DS', 'cgpa': 3.52}, {'id': 'DBU1601463', 'name': 'Abebaw', 'dept': 'DS', 'cgpa': 3.41}] \n",
      "\n",
      "Sorted by ID (Bubble Sort):\n",
      " [{'id': 'DBU1601391', 'name': 'Andarge', 'dept': 'DS', 'cgpa': 3.62}, {'id': 'DBU1601406', 'name': 'Ayele', 'dept': 'DS', 'cgpa': 3.32}, {'id': 'DBU1601442', 'name': 'Bereket', 'dept': 'DS', 'cgpa': 3.29}, {'id': 'DBU1601458', 'name': 'Abat', 'dept': 'DS', 'cgpa': 3.12}, {'id': 'DBU1601463', 'name': 'Abebaw', 'dept': 'DS', 'cgpa': 3.41}, {'id': 'DBU1601465', 'name': 'Abebech', 'dept': 'DS', 'cgpa': 3.42}, {'id': 'DBU1601497', 'name': 'Addisu', 'dept': 'DS', 'cgpa': 3.37}, {'id': 'DBU1601505', 'name': 'Afomia', 'dept': 'DS', 'cgpa': 3.36}, {'id': 'DBU1601519', 'name': 'Alemtsehay', 'dept': 'DS', 'cgpa': 3.52}] \n",
      "\n",
      "Sorted by Name (Insertion Sort):\n",
      " [{'id': 'DBU1601458', 'name': 'Abat', 'dept': 'DS', 'cgpa': 3.12}, {'id': 'DBU1601463', 'name': 'Abebaw', 'dept': 'DS', 'cgpa': 3.41}, {'id': 'DBU1601465', 'name': 'Abebech', 'dept': 'DS', 'cgpa': 3.42}, {'id': 'DBU1601497', 'name': 'Addisu', 'dept': 'DS', 'cgpa': 3.37}, {'id': 'DBU1601505', 'name': 'Afomia', 'dept': 'DS', 'cgpa': 3.36}, {'id': 'DBU1601519', 'name': 'Alemtsehay', 'dept': 'DS', 'cgpa': 3.52}, {'id': 'DBU1601391', 'name': 'Andarge', 'dept': 'DS', 'cgpa': 3.62}, {'id': 'DBU1601406', 'name': 'Ayele', 'dept': 'DS', 'cgpa': 3.32}, {'id': 'DBU1601442', 'name': 'Bereket', 'dept': 'DS', 'cgpa': 3.29}] \n",
      "\n",
      "Sorted by CGPA Descending (Selection Sort):\n",
      " [{'id': 'DBU1601391', 'name': 'Andarge', 'dept': 'DS', 'cgpa': 3.62}, {'id': 'DBU1601519', 'name': 'Alemtsehay', 'dept': 'DS', 'cgpa': 3.52}, {'id': 'DBU1601465', 'name': 'Abebech', 'dept': 'DS', 'cgpa': 3.42}, {'id': 'DBU1601463', 'name': 'Abebaw', 'dept': 'DS', 'cgpa': 3.41}, {'id': 'DBU1601497', 'name': 'Addisu', 'dept': 'DS', 'cgpa': 3.37}, {'id': 'DBU1601505', 'name': 'Afomia', 'dept': 'DS', 'cgpa': 3.36}, {'id': 'DBU1601406', 'name': 'Ayele', 'dept': 'DS', 'cgpa': 3.32}, {'id': 'DBU1601442', 'name': 'Bereket', 'dept': 'DS', 'cgpa': 3.29}, {'id': 'DBU1601458', 'name': 'Abat', 'dept': 'DS', 'cgpa': 3.12}] \n",
      "\n"
     ]
    }
   ],
   "source": [
    "import copy\n",
    "\n",
    "print(\"Original List:\\n\", Students, \"\\n\")\n",
    "print(\"Sorted by ID (Bubble Sort):\\n\", bubble_sort_by_id(copy.deepcopy(Students)), \"\\n\")\n",
    "print(\"Sorted by Name (Insertion Sort):\\n\", insertion_sort_by_name(copy.deepcopy(Students)), \"\\n\")\n",
    "print(\"Sorted by CGPA Descending (Selection Sort):\\n\", selection_sort_by_cgpa_desc(copy.deepcopy(Students)), \"\\n\")"
   ]
  },
  {
   "cell_type": "markdown",
   "metadata": {},
   "source": [
    "# Sorting Algorithms Comparison\n",
    "\n",
    "#### 1. Bubble Sort (by ID)\n",
    "- **Time Complexity**: O(n²)\n",
    "- **Best Case**: O(n) (when list is already sorted)\n",
    "- **Worst Case**: O(n²)\n",
    "- **Advantage**: Simple and intuitive\n",
    "- **Disadvantage**: Inefficient for large data\n",
    "\n",
    "#### 2. Insertion Sort (by Name)\n",
    "- **Time Complexity**: O(n²)\n",
    "- **Best Case**: O(n) (when list is sorted or nearly sorted)\n",
    "- **Advantage**: Efficient for small or partially sorted lists\n",
    "- **Disadvantage**: Not suitable for large data sets\n",
    "\n",
    "#### 3. Selection Sort (by CGPA Descending)\n",
    "- **Time Complexity**: O(n²)\n",
    "- **Best and Worst Case**: O(n²)\n",
    "- **Advantage**: Easy to implement, consistent performance\n",
    "- **Disadvantage**: Always performs same number of comparisons, regardless of list state\n",
    "\n"
   ]
  },
  {
   "cell_type": "code",
   "execution_count": null,
   "metadata": {},
   "outputs": [],
   "source": []
  },
  {
   "cell_type": "code",
   "execution_count": null,
   "metadata": {},
   "outputs": [],
   "source": []
  },
  {
   "cell_type": "code",
   "execution_count": null,
   "metadata": {},
   "outputs": [],
   "source": []
  }
 ],
 "metadata": {
  "kernelspec": {
   "display_name": "Python 3 (ipykernel)",
   "language": "python",
   "name": "python3"
  },
  "language_info": {
   "codemirror_mode": {
    "name": "ipython",
    "version": 3
   },
   "file_extension": ".py",
   "mimetype": "text/x-python",
   "name": "python",
   "nbconvert_exporter": "python",
   "pygments_lexer": "ipython3",
   "version": "3.12.7"
  }
 },
 "nbformat": 4,
 "nbformat_minor": 4
}
